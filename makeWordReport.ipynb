{
 "cells": [
  {
   "cell_type": "markdown",
   "metadata": {},
   "source": [
    "# Making a word report using Python\n",
    "* Auth: Joakim Blix Prestmo\n",
    "* Dato: 22. nov 2019\n",
    "* Data: From macroPlot.ipynb \n"
   ]
  },
  {
   "cell_type": "code",
   "execution_count": 256,
   "metadata": {},
   "outputs": [],
   "source": [
    "import pandas as pd\n",
    "from docx import Document\n",
    "from docx.shared import Inches\n",
    "from docx.enum.text import WD_ALIGN_PARAGRAPH"
   ]
  },
  {
   "cell_type": "code",
   "execution_count": 275,
   "metadata": {},
   "outputs": [],
   "source": [
    "doc = Document()\n",
    "doc.save('MacroeconomicReport.docx')"
   ]
  },
  {
   "cell_type": "code",
   "execution_count": 276,
   "metadata": {},
   "outputs": [
    {
     "data": {
      "text/plain": [
       "<docx.text.paragraph.Paragraph at 0x260d539cf98>"
      ]
     },
     "execution_count": 276,
     "metadata": {},
     "output_type": "execute_result"
    }
   ],
   "source": [
    "# Add corporate logo\n",
    "LOGO = '../Figurer/BNBank_hvitkant_rgb.png'\n",
    "\n",
    "logo = doc.add_picture(LOGO, width=Inches(1.20) )\n",
    "last_paragraph = doc.paragraphs[-1]\n",
    "last_paragraph.alignment = WD_ALIGN_PARAGRAPH.RIGHT\n",
    "\n",
    "from datetime import date\n",
    "today = date.today()\n",
    "thismonth = today.strftime(\"%B %Y\")\n",
    "\n",
    "doc.add_heading('Macroeconomic report -- ' + thismonth, 0)\n",
    "doc.add_paragraph('This reports summarizes recent development in macroeconomic figures affecting the Norwegian econonomy. Particullary focusing on data from the National Account,'\n",
    "                 'interest rates, exchange rates and prices of consumer goods and housing.')"
   ]
  },
  {
   "cell_type": "code",
   "execution_count": 277,
   "metadata": {},
   "outputs": [
    {
     "data": {
      "text/plain": [
       "<docx.text.paragraph.Paragraph at 0x260d0426438>"
      ]
     },
     "execution_count": 277,
     "metadata": {},
     "output_type": "execute_result"
    }
   ],
   "source": [
    "doc.add_heading('The real economy', level=1)\n",
    "doc.add_paragraph('This paragraph discusses data from the National Accounts ..')"
   ]
  },
  {
   "cell_type": "code",
   "execution_count": 278,
   "metadata": {},
   "outputs": [
    {
     "data": {
      "text/plain": [
       "<docx.shape.InlineShape at 0x260d0455908>"
      ]
     },
     "execution_count": 278,
     "metadata": {},
     "output_type": "execute_result"
    }
   ],
   "source": [
    "folder = 'Figures/'\n",
    "doc.add_heading('Few signs of slower economic growth in Norway this autumn', level=2)\n",
    "doc.add_paragraph('Figures for the Norwegian econonomy is still strong...')\n",
    "doc.add_heading('Private and public growth, Investments and Net Exports in fixed 2017-prices', level=3)\n",
    "# Adding figures are easiest using savefig and then add_picture\n",
    "doc.add_picture(folder+'EconCirc.png', width=Inches(3.5))\n",
    "\n",
    "doc.add_heading('GDP-gap for the Norwegian economy', level=3)\n",
    "doc.add_picture(folder+'GDPgap.png', width=Inches(4.5))\n"
   ]
  },
  {
   "cell_type": "code",
   "execution_count": 279,
   "metadata": {},
   "outputs": [
    {
     "data": {
      "text/html": [
       "<div>\n",
       "<style scoped>\n",
       "    .dataframe tbody tr th:only-of-type {\n",
       "        vertical-align: middle;\n",
       "    }\n",
       "\n",
       "    .dataframe tbody tr th {\n",
       "        vertical-align: top;\n",
       "    }\n",
       "\n",
       "    .dataframe thead th {\n",
       "        text-align: right;\n",
       "    }\n",
       "</style>\n",
       "<table border=\"1\" class=\"dataframe\">\n",
       "  <thead>\n",
       "    <tr style=\"text-align: right;\">\n",
       "      <th></th>\n",
       "      <th>I</th>\n",
       "      <th>G</th>\n",
       "      <th>NX</th>\n",
       "      <th>G</th>\n",
       "    </tr>\n",
       "    <tr>\n",
       "      <th>kvartal</th>\n",
       "      <th></th>\n",
       "      <th></th>\n",
       "      <th></th>\n",
       "      <th></th>\n",
       "    </tr>\n",
       "  </thead>\n",
       "  <tbody>\n",
       "    <tr>\n",
       "      <th>2018Q3</th>\n",
       "      <td>234459</td>\n",
       "      <td>248948</td>\n",
       "      <td>303073</td>\n",
       "      <td>248948</td>\n",
       "    </tr>\n",
       "    <tr>\n",
       "      <th>2018Q4</th>\n",
       "      <td>244030</td>\n",
       "      <td>248795</td>\n",
       "      <td>298701</td>\n",
       "      <td>248795</td>\n",
       "    </tr>\n",
       "    <tr>\n",
       "      <th>2019Q1</th>\n",
       "      <td>242045</td>\n",
       "      <td>248756</td>\n",
       "      <td>304699</td>\n",
       "      <td>248756</td>\n",
       "    </tr>\n",
       "    <tr>\n",
       "      <th>2019Q2</th>\n",
       "      <td>246056</td>\n",
       "      <td>253820</td>\n",
       "      <td>303818</td>\n",
       "      <td>253820</td>\n",
       "    </tr>\n",
       "    <tr>\n",
       "      <th>2019Q3</th>\n",
       "      <td>253135</td>\n",
       "      <td>258967</td>\n",
       "      <td>297102</td>\n",
       "      <td>258967</td>\n",
       "    </tr>\n",
       "  </tbody>\n",
       "</table>\n",
       "</div>"
      ],
      "text/plain": [
       "              I       G      NX       G\n",
       "kvartal                                \n",
       "2018Q3   234459  248948  303073  248948\n",
       "2018Q4   244030  248795  298701  248795\n",
       "2019Q1   242045  248756  304699  248756\n",
       "2019Q2   246056  253820  303818  253820\n",
       "2019Q3   253135  258967  297102  258967"
      ]
     },
     "execution_count": 279,
     "metadata": {},
     "output_type": "execute_result"
    }
   ],
   "source": [
    "# load dataframe from macroPlot.ipynb on macro figures\n",
    "na_table = pd.read_pickle('Data/na_table.pkl')\n",
    "na_table"
   ]
  },
  {
   "cell_type": "code",
   "execution_count": 280,
   "metadata": {},
   "outputs": [
    {
     "name": "stderr",
     "output_type": "stream",
     "text": [
      "C:\\Users\\i235jbp\\Anaconda3\\lib\\site-packages\\docx\\styles\\styles.py:139: UserWarning: style lookup by style_id is deprecated. Use style name as key instead.\n",
      "  return self._get_style_id_from_style(self[style_name], style_type)\n"
     ]
    }
   ],
   "source": [
    "# Print summary table - this table could either be genereated in this notebook or pickled and loaded in this notebook\n",
    "# use the table-function, tab is created as the reference variable\n",
    "# extra row is so we can add the header row\n",
    "doc.add_paragraph('Measured by the GDP-gap the Norwegian economy is now growing with the a growth rate equal to the average growth rate for the last decades...'\n",
    "                 'The Table below shows figures for the last four quarter... \\n')\n",
    "doc.add_heading('Macroecomic figures, Bill. NOK. Fixed prices', level=3)\n",
    "tab2 = doc.add_table(na_table.shape[0]+1, na_table.shape[0], style = 'TableGrid')\n",
    "# column header, starts at row 0 and column 1\n",
    "for j in range(na_table.shape[-1]):\n",
    "    tab2.cell(0,j+1).text = na_table.columns[j]\n",
    "\n",
    "# index column, start at row 1 and column 0\n",
    "for i in range(na_table.shape[0]):\n",
    "    tab2.cell(i+1,0).text = str(na_table.index[i])\n",
    "    \n",
    "# the rest of the data frame, note that we start from row = i+1 and column j+1\n",
    "for i in range(na_table.shape[0]):\n",
    "    for j in range(na_table.shape[-1]):\n",
    "        tab2.cell(i+1,j+1).text = str(na_table.values[i,j])\n",
    "        \n"
   ]
  },
  {
   "cell_type": "code",
   "execution_count": 281,
   "metadata": {},
   "outputs": [
    {
     "data": {
      "text/plain": [
       "<docx.shape.InlineShape at 0x260d5376940>"
      ]
     },
     "execution_count": 281,
     "metadata": {},
     "output_type": "execute_result"
    }
   ],
   "source": [
    "doc.add_heading('Exchange rates and interest rates', level=1)\n",
    "doc.add_heading('The Norwegian continue to weaken', level=2)\n",
    "doc.add_paragraph('The Norwegian krone (NOK) continues to depresiate. As shown in the figure below we see that measured againts both the Euro and the US Dollar'\n",
    "                  'the NOK is record weak. ')\n",
    "doc.add_heading('Exchange rates, NOK againts, GBP, USD, EUR', level=3)\n",
    "# Adding figures are easiest using savefig and then add_picture\n",
    "doc.add_picture(folder+'ExchangeRate.png', width=Inches(3.5))"
   ]
  },
  {
   "cell_type": "code",
   "execution_count": 282,
   "metadata": {},
   "outputs": [
    {
     "data": {
      "text/plain": [
       "<docx.text.run.Run at 0x260d53906a0>"
      ]
     },
     "execution_count": 282,
     "metadata": {},
     "output_type": "execute_result"
    }
   ],
   "source": [
    "doc.add_paragraph('\\n')\n",
    "\n",
    "documentation = doc.add_paragraph()\n",
    "documentation.add_run(format('Data sources: ')).bold=True\n",
    "documentation.add_run('Statitics Norway and Bank of Norway\\n')\n",
    "documentation.add_run(format('Author: ')).bold=True\n",
    "documentation.add_run('Joakim Blix Prestmo  \\n')\n",
    "documentation.add_run('Source code: ').bold=True \n",
    "documentation.add_run('makeWordReport.ipynb \\n')    \n",
    "\n",
    "\n",
    "from datetime import datetime\n",
    "dateToday = datetime.today().strftime('%Y-%m-%d')\n",
    "documentation.add_run('Updated: ').bold=True\n",
    "documentation.add_run(dateToday)"
   ]
  },
  {
   "cell_type": "code",
   "execution_count": 283,
   "metadata": {},
   "outputs": [],
   "source": [
    "doc.save('MacroeconomicReport.docx')"
   ]
  },
  {
   "cell_type": "code",
   "execution_count": null,
   "metadata": {},
   "outputs": [],
   "source": []
  },
  {
   "cell_type": "code",
   "execution_count": null,
   "metadata": {},
   "outputs": [],
   "source": []
  },
  {
   "cell_type": "code",
   "execution_count": null,
   "metadata": {},
   "outputs": [],
   "source": []
  },
  {
   "cell_type": "code",
   "execution_count": null,
   "metadata": {},
   "outputs": [],
   "source": []
  }
 ],
 "metadata": {
  "kernelspec": {
   "display_name": "Python 3",
   "language": "python",
   "name": "python3"
  },
  "language_info": {
   "codemirror_mode": {
    "name": "ipython",
    "version": 3
   },
   "file_extension": ".py",
   "mimetype": "text/x-python",
   "name": "python",
   "nbconvert_exporter": "python",
   "pygments_lexer": "ipython3",
   "version": "3.6.4"
  }
 },
 "nbformat": 4,
 "nbformat_minor": 2
}
