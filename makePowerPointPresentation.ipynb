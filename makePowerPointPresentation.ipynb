{
 "cells": [
  {
   "cell_type": "markdown",
   "metadata": {},
   "source": [
    "# Making a PowerPoint Presentation\n",
    "* Auth: Joakim Blix Prestmo\n",
    "* Dato: 27. nov 2019\n",
    "* Data: From macroPlot.ipynb "
   ]
  },
  {
   "cell_type": "code",
   "execution_count": 2,
   "metadata": {},
   "outputs": [],
   "source": [
    "from pptx import Presentation\n",
    "from pptx.util import Inches"
   ]
  },
  {
   "cell_type": "code",
   "execution_count": 119,
   "metadata": {},
   "outputs": [],
   "source": [
    "folder = 'C:/../templateFolder'\n",
    "# The templatefile is an empty pptx-file with your firm lay-out\n",
    "# templatename = 'TemplateBNBank.pptx'\n",
    "# template = folder + templatename\n",
    "# The name of the new presentation\n",
    "# filename = folder+'MacroForcasting.pptx'\n",
    "filename = 'MacroForecasting.pptx'\n"
   ]
  },
  {
   "cell_type": "code",
   "execution_count": 120,
   "metadata": {},
   "outputs": [],
   "source": [
    "# Intitialize a presentation\n",
    "# prs = Presentation(template)\n",
    "prs = Presentation()\n",
    "prs.save(filename)\n",
    "\n"
   ]
  },
  {
   "cell_type": "code",
   "execution_count": 121,
   "metadata": {},
   "outputs": [],
   "source": [
    "title_slide_layout = prs.slide_layouts[0]\n",
    "slide = prs.slides.add_slide(title_slide_layout)\n",
    "title = slide.shapes.title\n",
    "subtitle = slide.placeholders[1]\n",
    "\n",
    "from datetime import date\n",
    "today = date.today()\n",
    "thisday = today.strftime(\"%B %Y\")\n",
    "\n",
    "\n",
    "title.text = \"Macroeconomic Report\"\n",
    "subtitle.text = thisday\n"
   ]
  },
  {
   "cell_type": "code",
   "execution_count": 122,
   "metadata": {},
   "outputs": [],
   "source": [
    "macrofolder= 'Figures/'\n",
    "img_path =  macrofolder + 'ExchangeRate.png'\n",
    "\n",
    "\n"
   ]
  },
  {
   "cell_type": "code",
   "execution_count": 123,
   "metadata": {},
   "outputs": [],
   "source": [
    "title_blank_layout  = prs.slide_layouts[6]\n",
    "# title_blank_layout = prs.slide_layouts[17]\n",
    "slide = prs.slides.add_slide(title_blank_layout)\n",
    "\n",
    "\n",
    "left = top = Inches(2)\n",
    "height = Inches(2.5)\n",
    "pic = slide.shapes.add_picture(img_path, left, top, height=height)\n",
    "\n",
    "\n"
   ]
  },
  {
   "cell_type": "code",
   "execution_count": 124,
   "metadata": {},
   "outputs": [],
   "source": [
    "bullet_slide_layout = prs.slide_layouts[1]\n",
    "# bullet_slide_layout = prs.slide_layouts[10]\n",
    "\n",
    "slide = prs.slides.add_slide(bullet_slide_layout)\n",
    "shapes = slide.shapes\n",
    "\n",
    "title_shape = shapes.title\n",
    "body_shape = shapes.placeholders[1]\n",
    "\n",
    "title_shape.text = 'No further depreciaton expected for the exchange rate'\n",
    "\n",
    "tf = body_shape.text_frame\n",
    "# tf.text = 'Find the bullet slide layout'\n",
    "\n",
    "p = tf.add_paragraph()\n",
    "p.text = 'Interest rate expected to stop increasing'\n",
    "p.level = 1\n",
    "\n",
    "p = tf.add_paragraph()\n",
    "p.text = 'Weak oil prices will:'\n",
    "p.level = 1\n",
    "\n",
    "p = tf.add_paragraph()\n",
    "p.text = 'Reduce the profitability in the petroleum sector'\n",
    "p.level = 2\n",
    "p = tf.add_paragraph()\n",
    "p.text = 'Reduce the transfers to the State Pension Fund'\n",
    "p.level = 2"
   ]
  },
  {
   "cell_type": "code",
   "execution_count": 125,
   "metadata": {},
   "outputs": [],
   "source": [
    "prs.save(filename)"
   ]
  },
  {
   "cell_type": "code",
   "execution_count": null,
   "metadata": {},
   "outputs": [],
   "source": []
  },
  {
   "cell_type": "code",
   "execution_count": null,
   "metadata": {},
   "outputs": [],
   "source": []
  }
 ],
 "metadata": {
  "kernelspec": {
   "display_name": "Python 3",
   "language": "python",
   "name": "python3"
  },
  "language_info": {
   "codemirror_mode": {
    "name": "ipython",
    "version": 3
   },
   "file_extension": ".py",
   "mimetype": "text/x-python",
   "name": "python",
   "nbconvert_exporter": "python",
   "pygments_lexer": "ipython3",
   "version": "3.6.4"
  }
 },
 "nbformat": 4,
 "nbformat_minor": 2
}
